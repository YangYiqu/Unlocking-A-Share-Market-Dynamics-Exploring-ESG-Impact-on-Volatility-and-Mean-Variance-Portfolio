{
 "cells": [
  {
   "cell_type": "markdown",
   "metadata": {},
   "source": [
    "## 处理F1_T1/F1_T5"
   ]
  },
  {
   "cell_type": "code",
   "execution_count": 10,
   "metadata": {},
   "outputs": [
    {
     "name": "stderr",
     "output_type": "stream",
     "text": [
      "C:\\Users\\11872\\AppData\\Roaming\\Python\\Python311\\site-packages\\openpyxl\\styles\\stylesheet.py:226: UserWarning: Workbook contains no default style, apply openpyxl's default\n",
      "  warn(\"Workbook contains no default style, apply openpyxl's default\")\n",
      "C:\\Users\\11872\\AppData\\Local\\Temp\\ipykernel_32088\\153027522.py:12: SettingWithCopyWarning: \n",
      "A value is trying to be set on a copy of a slice from a DataFrame.\n",
      "Try using .loc[row_indexer,col_indexer] = value instead\n",
      "\n",
      "See the caveats in the documentation: https://pandas.pydata.org/pandas-docs/stable/user_guide/indexing.html#returning-a-view-versus-a-copy\n",
      "  filtered_df[\"id\"] = filtered_df['Stkcd']\n",
      "C:\\Users\\11872\\AppData\\Local\\Temp\\ipykernel_32088\\153027522.py:14: SettingWithCopyWarning: \n",
      "A value is trying to be set on a copy of a slice from a DataFrame\n",
      "\n",
      "See the caveats in the documentation: https://pandas.pydata.org/pandas-docs/stable/user_guide/indexing.html#returning-a-view-versus-a-copy\n",
      "  filtered_df.drop(columns=['ShortName'], inplace=True)\n",
      "C:\\Users\\11872\\AppData\\Local\\Temp\\ipykernel_32088\\153027522.py:17: SettingWithCopyWarning: \n",
      "A value is trying to be set on a copy of a slice from a DataFrame.\n",
      "Try using .loc[row_indexer,col_indexer] = value instead\n",
      "\n",
      "See the caveats in the documentation: https://pandas.pydata.org/pandas-docs/stable/user_guide/indexing.html#returning-a-view-versus-a-copy\n",
      "  filtered_df['year'] = filtered_df['Accper'].dt.year.astype(str)\n"
     ]
    },
    {
     "name": "stdout",
     "output_type": "stream",
     "text": [
      "            id  year  F050501B\n",
      "3            1  2017  0.104430\n",
      "7            1  2018  0.103390\n",
      "11           1  2019  0.090085\n",
      "16           1  2020  0.079444\n",
      "24           1  2021  0.091886\n",
      "...        ...   ...       ...\n",
      "205721  900957  2018  0.061314\n",
      "205729  900957  2019  0.053141\n",
      "205737  900957  2020  0.043829\n",
      "205744  900957  2021  0.052521\n",
      "205751  900957  2022  0.071531\n",
      "\n",
      "[31707 rows x 3 columns]\n",
      "Filtered data has been saved to 'filtered_FI_T5.xlsx'\n"
     ]
    }
   ],
   "source": [
    "import pandas as pd\n",
    "\n",
    "# 读取Excel文件\n",
    "filename='FI_T5.xlsx'\n",
    "df = pd.read_excel(filename,skiprows=[1,2])\n",
    "\n",
    "# 将Accper列转换为日期时间类型\n",
    "df['Accper'] = pd.to_datetime(df['Accper'])\n",
    "\n",
    "# 根据条件筛选数据\n",
    "filtered_df = df[(df['Typrep'] != 'B') & (df['Accper'].dt.month == 12)]\n",
    "filtered_df[\"id\"] = filtered_df['Stkcd']\n",
    "# 删除 \"ShortName\" 列\n",
    "filtered_df.drop(columns=['ShortName'], inplace=True)\n",
    "\n",
    "# 将 \"Accper\" 列重命名为 \"year\"，并提取年份\n",
    "filtered_df['year'] = filtered_df['Accper'].dt.year.astype(str)\n",
    "filtered_df = filtered_df[['id', 'year', 'F050501B']]\n",
    "print(filtered_df)\n",
    "filtered_df.to_excel('filtered_data/filtered_'+filename, index=False)\n",
    "\n",
    "print(\"Filtered data has been saved to 'filtered_\"+filename+\"'\")\n"
   ]
  },
  {
   "cell_type": "code",
   "execution_count": 15,
   "metadata": {},
   "outputs": [
    {
     "name": "stderr",
     "output_type": "stream",
     "text": [
      "C:\\Users\\11872\\AppData\\Roaming\\Python\\Python311\\site-packages\\openpyxl\\styles\\stylesheet.py:226: UserWarning: Workbook contains no default style, apply openpyxl's default\n",
      "  warn(\"Workbook contains no default style, apply openpyxl's default\")\n"
     ]
    },
    {
     "name": "stdout",
     "output_type": "stream",
     "text": [
      "Index(['Symbol', 'ShortName', 'EndDate', 'TopTenHoldersRate'], dtype='object')\n",
      "Filtered data has been saved to 'filtered_EN_EquityNatureAll.xlsx'\n"
     ]
    }
   ],
   "source": [
    "filename='EN_EquityNatureAll.xlsx'\n",
    "# Symbol\tShortName\tEndDate\tTopTenHoldersRate\n",
    "filtered_df = pd.read_excel(filename,skiprows=[1,2])\n",
    "print(filtered_df.columns) \n",
    "filtered_df[\"id\"]=filtered_df[\"Symbol\"]\n",
    "filtered_df[\"EndDate\"] = pd.to_datetime(filtered_df[\"EndDate\"])\n",
    "filtered_df[\"year\"] = filtered_df['EndDate'].dt.year.astype(str)\n",
    "\n",
    "filtered_df = filtered_df[['id', 'year', 'TopTenHoldersRate']]\n",
    "filtered_df.to_excel('filtered_data/filtered_'+filename, index=False)\n",
    "\n",
    "print(\"Filtered data has been saved to 'filtered_\"+filename+\"'\")"
   ]
  },
  {
   "cell_type": "code",
   "execution_count": null,
   "metadata": {},
   "outputs": [],
   "source": []
  }
 ],
 "metadata": {
  "kernelspec": {
   "display_name": "Python 3",
   "language": "python",
   "name": "python3"
  },
  "language_info": {
   "codemirror_mode": {
    "name": "ipython",
    "version": 3
   },
   "file_extension": ".py",
   "mimetype": "text/x-python",
   "name": "python",
   "nbconvert_exporter": "python",
   "pygments_lexer": "ipython3",
   "version": "3.11.0"
  }
 },
 "nbformat": 4,
 "nbformat_minor": 2
}
