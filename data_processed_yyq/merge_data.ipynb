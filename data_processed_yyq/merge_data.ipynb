{
 "cells": [
  {
   "cell_type": "markdown",
   "metadata": {},
   "source": [
    "### Merge_data\n",
    " 1. 可以分别处理基于beta_value.xlsx合并filtered_data文件夹下文件，从而生成merged_data_based_on_beta.xlsx，进一步对年份进行处理成dummy variable，形成regression model所需要的data,即regression_raw_data.xlsx。\n",
    " 2. 可以分别处理基于ESG_Score.xlsx合并return_data_2009文件夹下文件,从而生成merged_data_based_on_esg_contain_return_2009.xlsx。\n",
    " 3. 可以分别处理基于ESG_Score.xlsx合并return_data_2017文件夹下文件,从而生成merged_data_based_on_esg_contain_return_2017.xlsx。"
   ]
  },
  {
   "cell_type": "code",
   "execution_count": 1,
   "metadata": {},
   "outputs": [],
   "source": [
    "import pandas as pd\n",
    "import os"
   ]
  },
  {
   "cell_type": "code",
   "execution_count": 4,
   "metadata": {},
   "outputs": [
    {
     "name": "stdout",
     "output_type": "stream",
     "text": [
      "The number of missing values in the 'id' column is: 0\n",
      "The number of missing values in the 'year' column is: 0\n",
      "The number of missing values in the 'esg_score' column is: 0\n",
      "The number of missing values in the 'return' column is: 24132\n",
      "================================处理后====================================\n",
      "The number of missing values in the 'id' column is: 0\n",
      "The number of missing values in the 'year' column is: 0\n",
      "The number of missing values in the 'esg_score' column is: 0\n",
      "The number of missing values in the 'return' column is: 0\n",
      "All Excel files in 'return_data_2017' folder have been merged based on 'ESG_Score.xlsx' and saved to 'merged_data_based_on_esg_contain_return_2017.xlsx'.\n",
      "Data length: 22957\n"
     ]
    }
   ],
   "source": [
    "# 读取 beta_value.xlsx 文件以获取'id'和'year'列的数据\n",
    "beta_file_path = \"ESG_Score.xlsx\"#'beta_value.xlsx'\n",
    "beta_df = pd.read_excel(beta_file_path)\n",
    "beta_df['id'] = pd.to_numeric(beta_df['id'], errors='coerce')\n",
    "\n",
    "beta_df['year'] = pd.to_numeric(beta_df['year'], errors='coerce')\n",
    "# 初始化合并后的 DataFrame\n",
    "merged_df = beta_df.copy()\n",
    "\n",
    "# 获取 filter_data 文件夹中的所有 Excel 文件\n",
    "folder_path = 'return_data_2017'\n",
    "excel_files = [file for file in os.listdir(folder_path) if file.endswith('.xlsx')]\n",
    "\n",
    "# 循环处理每个 Excel 文件\n",
    "for file in excel_files:\n",
    "    file_path = os.path.join(folder_path, file)\n",
    "    # 读取当前 Excel 文件\n",
    "    df = pd.read_excel(file_path)\n",
    "    # 根据 'id' 和 'year' 列合并数据\n",
    "    df['id'] = pd.to_numeric(df['id'], errors='coerce')\n",
    "    df['year'] = pd.to_numeric(df['year'], errors='coerce')\n",
    "    merged_df = pd.merge(merged_df, df, on=['id', 'year'], how='left')\n",
    "\n",
    "output_file_path = 'merged_data_based_on_esg_contain_return_2017.xlsx'\n",
    "\n",
    "# 循环遍历每一列并打印缺失值个数\n",
    "for column in merged_df.columns:\n",
    "    missing_values = merged_df[column].isnull().sum()\n",
    "    print(f\"The number of missing values in the '{column}' column is: {missing_values}\")\n",
    "# 处理缺失值\n",
    "# merged_df = merged_df.dropna(subset=['esg_score'])\n",
    "# merged_df['media'] = merged_df['media'].fillna(0)\n",
    "# merged_df = merged_df.dropna(subset=['Director_Ratio'])\n",
    "# merged_df = merged_df.dropna(subset=['Volatility'])\n",
    "merged_df = merged_df.dropna()\n",
    "print(\"================================处理后====================================\")\n",
    "# 循环遍历每一列并打印缺失值个数\n",
    "for column in merged_df.columns:\n",
    "    missing_values = merged_df[column].isnull().sum()\n",
    "    print(f\"The number of missing values in the '{column}' column is: {missing_values}\")\n",
    "\n",
    "merged_df.to_excel(output_file_path, index=False)\n",
    "\n",
    "print(f\"All Excel files in '{folder_path}' folder have been merged based on '{beta_file_path}' and saved to '{output_file_path}'.\")\n",
    "print(\"Data length:\", len(merged_df))"
   ]
  }
 ],
 "metadata": {
  "kernelspec": {
   "display_name": "Python 3",
   "language": "python",
   "name": "python3"
  },
  "language_info": {
   "codemirror_mode": {
    "name": "ipython",
    "version": 3
   },
   "file_extension": ".py",
   "mimetype": "text/x-python",
   "name": "python",
   "nbconvert_exporter": "python",
   "pygments_lexer": "ipython3",
   "version": "3.11.0"
  }
 },
 "nbformat": 4,
 "nbformat_minor": 2
}
